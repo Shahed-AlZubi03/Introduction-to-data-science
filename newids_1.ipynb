{
 "cells": [
  {
   "cell_type": "code",
   "execution_count": null,
   "id": "8343b90e-094e-4429-a5b4-24cb6490e648",
   "metadata": {},
   "outputs": [],
   "source": [
    "import pandas as pd\n",
    "import matplotlib.pyplot as plt\n",
    "import seaborn as sns\n",
    "import numpy as np\n",
    "import math\n",
    "from sklearn.preprocessing import MinMaxScaler, StandardScaler, LabelEncoder\n",
    "\n",
    "df = pd.read_csv(\"Scoring-Dataset-9.csv\")"
   ]
  },
  {
   "cell_type": "markdown",
   "id": "36b24ec2-2daf-4a6c-95ec-ac099af543bf",
   "metadata": {},
   "source": [
    "Summary statistics:"
   ]
  },
  {
   "cell_type": "code",
   "execution_count": null,
   "id": "3576a165-fd49-4616-9162-42bc99951f07",
   "metadata": {},
   "outputs": [],
   "source": [
    "\n",
    "summary_stats = df.describe()\n",
    "summary_stats"
   ]
  },
  {
   "cell_type": "markdown",
   "id": "aa016a0e-c096-4a5d-a921-d26fb3f5d66b",
   "metadata": {},
   "source": [
    "A2:"
   ]
  },
  {
   "cell_type": "code",
   "execution_count": null,
   "id": "b3bfcc20-0517-4829-abe6-66fe6387f760",
   "metadata": {},
   "outputs": [],
   "source": [
    "#AGE ATTRIBUTE:\n",
    "\n",
    "# Box plot\n",
    "sns.boxplot(x=df['Age'], color='gray')\n",
    "plt.title('Boxplot of Age')\n",
    "plt.show()\n",
    "print(\"\\n\")\n",
    "\n",
    "# Distribution plot\n",
    "sns.histplot(df['Age'], kde=True, color='gray', linewidth=2)\n",
    "plt.title('Distribution of Age')\n",
    "plt.show()\n",
    "print(\"\\n\")\n",
    "\n",
    "# Frequency of values:\n",
    "value_counts = df['Age'].value_counts()\n",
    "plt.figure(figsize=(15, 6))\n",
    "value_counts.plot(kind='bar', color='purple', edgecolor='gray')\n",
    "plt.title('Frequency of Items in Attribute Age')\n",
    "plt.xlabel('Attribute Age Values')\n",
    "plt.ylabel('Frequency')\n",
    "plt.xticks(rotation=90, ha='right')  \n",
    "plt.show()\n",
    "\n",
    "# Percentiles\n",
    "percentiles = np.percentile(df['Age'], [25, 50, 75])\n",
    "\n",
    "# Print the results:\n",
    "print(\"Max:\", df['Age'].max())\n",
    "print(\"Min:\", df['Age'].min())\n",
    "print(\"\\nCentral tendency:\")\n",
    "print(\"Median:\", df['Age'].median())\n",
    "print(\"Mean:\", df['Age'].mean())\n",
    "print(\"Mode:\", df['Age'].mode())\n",
    "print(\"Variance:\", df['Age'].var())\n",
    "print(\"std:\",math.sqrt( df['Age'].var()))\n",
    "print(\"Percentiles [25th, 50th, 75th]:\", percentiles)\n",
    "\n"
   ]
  },
  {
   "cell_type": "code",
   "execution_count": null,
   "id": "d9ff49b1-7ce3-416e-aba4-5ac2abff0cb7",
   "metadata": {},
   "outputs": [],
   "source": [
    "def summarize_dataset(dataset_path):\n",
    "    # Read the dataset into a pandas DataFrame\n",
    "    df = pd.read_csv(\"Scoring-Dataset-9.csv\")\n",
    "\n",
    "    # Summary statistics for each attribute\n",
    "    summary_statistics = df.describe()\n",
    "\n",
    "    # Frequency of values for each attribute\n",
    "    frequency_counts = {}\n",
    "    for column in df.columns:\n",
    "        frequency_counts[column] = df[column].value_counts()\n",
    "\n",
    "    # Visualization for each attribute\n",
    "    for column in df.columns:\n",
    "        plt.figure(figsize=(4, 4))\n",
    "\n",
    "        # Histogram for numeric attributes\n",
    "        if pd.api.types.is_numeric_dtype(df[column]):\n",
    "            df[column].plot(kind='hist', bins=20, color='purple', title=f'Histogram of {column}')\n",
    "            plt.xlabel(column)\n",
    "            plt.ylabel('Frequency')\n",
    "            plt.show()\n",
    "        else:\n",
    "            # Bar chart for categorical attributes\n",
    "            frequency_counts[column].plot(kind='bar', color='purple', title=f'Bar Chart of {column}')\n",
    "            plt.xlabel(column)\n",
    "            plt.ylabel('Frequency')\n",
    "            plt.show()\n",
    "\n",
    "    return summary_statistics, frequency_counts\n",
    "\n",
    "# Example usage\n",
    "dataset_path = 'Scoring-Dataset-9.csv'  \n",
    "summary_stats, frequency_counts = summarize_dataset(dataset_path)\n"
   ]
  },
  {
   "cell_type": "markdown",
   "id": "4942c84f-79dc-4f84-b47f-5b72781f884a",
   "metadata": {},
   "source": [
    "A3:"
   ]
  },
  {
   "cell_type": "code",
   "execution_count": null,
   "id": "e937b5ea-d35e-4d51-81bf-5a2df57a71d8",
   "metadata": {},
   "outputs": [],
   "source": [
    "# Read the dataset into a pandas DataFrame\n",
    "df = pd.read_csv('Scoring-Dataset-9.csv') \n",
    "\n",
    "# Display basic information about the dataset\n",
    "print(\"Dataset Info:\")\n",
    "print(df.info())\n",
    "\n",
    "# Display summary statistics\n",
    "print(\"\\nSummary Statistics:\")\n",
    "print(df.describe())\n",
    "\n",
    "# Visualize pair-wise relationships and scatter plots\n",
    "sns.pairplot(df)\n",
    "plt.title(\"Pair-wise Relationships\")\n",
    "plt.show()\n",
    "\n",
    "# Identify outliers using box plots\n",
    "plt.figure(figsize=(4,4))\n",
    "sns.boxplot(data=df['Age'], color='purple')\n",
    "plt.title(\"Box Plot for Outlier Detection\")\n",
    "plt.show()\n"
   ]
  },
  {
   "cell_type": "markdown",
   "id": "1bc13b8d-c26d-4620-8a35-75d34495084d",
   "metadata": {},
   "source": [
    "B1:"
   ]
  },
  {
   "cell_type": "code",
   "execution_count": null,
   "id": "d5600ff7-7435-4795-a225-fe87c78fc328",
   "metadata": {},
   "outputs": [],
   "source": [
    "# Min-Max Normalization\n",
    "min_max_scaler = MinMaxScaler()\n",
    "df['Age_MinMax'] = min_max_scaler.fit_transform(df[['Age']])\n",
    "print(\"Min-Max Normalization sample:\\n\",df['Age_MinMax'].head(10))\n",
    "\n",
    "# Z-Score Normalization\n",
    "z_score_scaler = StandardScaler()\n",
    "df['Age_ZScore'] = z_score_scaler.fit_transform(df[['Age']])\n",
    "print(\"\\nZ- score Normalization sample:\\n\",df['Age_ZScore'] .head(10))\n",
    "      \n",
    "      \n",
    "# Save the DataFrame with normalized values to a CSV file\n",
    "df.to_csv(\"C:/Users/User/Downloads/Scoring-Dataset-9_normalized.csv\", index=False)"
   ]
  },
  {
   "cell_type": "markdown",
   "id": "3978a119-3dc1-48f8-a036-06c3f987d65f",
   "metadata": {},
   "source": [
    "B2:"
   ]
  },
  {
   "cell_type": "code",
   "execution_count": null,
   "id": "4cda89ea-fc68-48a9-a238-e939d5f68a8a",
   "metadata": {},
   "outputs": [],
   "source": [
    "# Define the bins and labels for discretization\n",
    "age_bins = [0, 16, 35, 55, 70, float('inf')]\n",
    "age_labels = ['Teenager', 'Young', 'Mid_Age', 'Mature', 'Old']\n",
    "\n",
    "# Discretize the 'Age' column\n",
    "df['Age_Category'] = pd.cut(df['Age'], bins=age_bins, labels=age_labels, right=False)\n",
    "\n",
    "# Display the result:\n",
    "print(\"\\nAge categories sample:\")\n",
    "print(df['Age_Category'].head(10))\n",
    "\n",
    "print(\"\\nFrequency of Each Age Category:\")\n",
    "print(df['Age_Category'].value_counts())"
   ]
  },
  {
   "cell_type": "code",
   "execution_count": null,
   "id": "6d4da77a-a264-4ed5-ab5e-3c7587e5ab33",
   "metadata": {},
   "outputs": [],
   "source": [
    "# Pie chart to visualize the distribution of age categories\n",
    "age_category_counts = df['Age_Category'].value_counts()\n",
    "labels = age_category_counts.index\n",
    "sizes = age_category_counts.values\n",
    "\n",
    "colors = ['#8a2be2', '#00008b', '#ffc0cb', '#4b0082', '#ff69b4']\n",
    "\n",
    "plt.figure(figsize=(8, 8))\n",
    "plt.pie(sizes, labels=labels, autopct='%1.1f%%', startangle=90, colors=colors)\n",
    "plt.title('Distribution of Age Categories')\n",
    "plt.show()"
   ]
  },
  {
   "cell_type": "markdown",
   "id": "06ae4439-0c2c-4292-968d-e8a97aad483d",
   "metadata": {},
   "source": [
    "B3:"
   ]
  },
  {
   "cell_type": "code",
   "execution_count": null,
   "id": "fa4242c2-5eec-4314-ba22-73b5b5e9fe25",
   "metadata": {},
   "outputs": [],
   "source": [
    "\n",
    "\n",
    "label_encoder = LabelEncoder()\n",
    "df['Gender'] = label_encoder.fit_transform(df['Gender'])\n",
    "\n",
    "# Get the mapping of original categories to encoded labels\n",
    "label_mapping = dict(zip(label_encoder.classes_, label_encoder.transform(label_encoder.classes_)))\n",
    "print(\"Gender:\")\n",
    "print(label_mapping)\n",
    "print(df['Gender'].head(10))\n",
    "\n",
    "\n",
    "with pd.ExcelWriter('C:/Users/User/Downloads/Scoring-Dataset-9_normalized.xlsx', engine='openpyxl') as writer:\n",
    "    df.to_excel(writer, sheet_name='Sheet1', index=False)\n",
    "    encoding_results.to_excel(writer, sheet_name='EncodingResults', index=False)"
   ]
  },
  {
   "cell_type": "code",
   "execution_count": null,
   "id": "5eb30f34-5de7-4e2a-9ea7-d595c1ea0699",
   "metadata": {},
   "outputs": [],
   "source": [
    "\n",
    "# Create a pie chart to visualize the distribution of genders\n",
    "gender_counts = df['Gender'].value_counts()\n",
    "labels = gender_counts.index\n",
    "sizes = gender_counts.values\n",
    "\n",
    "colors = ['lightblue', 'purple']  # Light Blue for Male, Purple for Female\n",
    "\n",
    "plt.figure(figsize=(5, 5))\n",
    "plt.pie(sizes, labels=labels, autopct='%1.1f%%', startangle=90, colors=colors)\n",
    "plt.title('Distribution of Genders')\n",
    "plt.show()"
   ]
  }
 ],
 "metadata": {
  "kernelspec": {
   "display_name": "Python 3 (ipykernel)",
   "language": "python",
   "name": "python3"
  },
  "language_info": {
   "codemirror_mode": {
    "name": "ipython",
    "version": 3
   },
   "file_extension": ".py",
   "mimetype": "text/x-python",
   "name": "python",
   "nbconvert_exporter": "python",
   "pygments_lexer": "ipython3",
   "version": "3.10.9"
  }
 },
 "nbformat": 4,
 "nbformat_minor": 5
}
